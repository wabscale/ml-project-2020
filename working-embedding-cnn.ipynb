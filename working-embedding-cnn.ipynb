{
 "cells": [
  {
   "cell_type": "code",
   "execution_count": 1,
   "metadata": {},
   "outputs": [
    {
     "name": "stdout",
     "output_type": "stream",
     "text": [
      "Num GPUs Available:  1\n"
     ]
    },
    {
     "name": "stderr",
     "output_type": "stream",
     "text": [
      "<ipython-input-1-2ad22ac217ab>:24: RuntimeWarning: invalid value encountered in long_scalars\n",
      "  df['like_dislike'] = df[['likes', 'dislikes']].apply(lambda row: row['likes'] / np.sum([row['likes'], row['dislikes']]), axis=1)\n",
      "[nltk_data] Downloading package stopwords to /root/nltk_data...\n",
      "[nltk_data]   Package stopwords is already up-to-date!\n"
     ]
    },
    {
     "data": {
      "text/html": [
       "<div>\n",
       "<style scoped>\n",
       "    .dataframe tbody tr th:only-of-type {\n",
       "        vertical-align: middle;\n",
       "    }\n",
       "\n",
       "    .dataframe tbody tr th {\n",
       "        vertical-align: top;\n",
       "    }\n",
       "\n",
       "    .dataframe thead th {\n",
       "        text-align: right;\n",
       "    }\n",
       "</style>\n",
       "<table border=\"1\" class=\"dataframe\">\n",
       "  <thead>\n",
       "    <tr style=\"text-align: right;\">\n",
       "      <th></th>\n",
       "      <th>trending_date</th>\n",
       "      <th>title</th>\n",
       "      <th>channel_title</th>\n",
       "      <th>category_id</th>\n",
       "      <th>publish_time</th>\n",
       "      <th>tags</th>\n",
       "      <th>views</th>\n",
       "      <th>likes</th>\n",
       "      <th>dislikes</th>\n",
       "      <th>comment_count</th>\n",
       "      <th>comments_disabled</th>\n",
       "      <th>ratings_disabled</th>\n",
       "      <th>video_error_or_removed</th>\n",
       "      <th>description</th>\n",
       "      <th>publish_hour</th>\n",
       "      <th>like_dislike</th>\n",
       "      <th>anti_participation</th>\n",
       "      <th>category_name</th>\n",
       "    </tr>\n",
       "  </thead>\n",
       "  <tbody>\n",
       "    <tr>\n",
       "      <th>0</th>\n",
       "      <td>17.14.11</td>\n",
       "      <td>WE WANT TO TALK ABOUT OUR MARRIAGE</td>\n",
       "      <td>CaseyNeistat</td>\n",
       "      <td>7</td>\n",
       "      <td>2017-11-13T17:13:01.000Z</td>\n",
       "      <td>SHANtell martin</td>\n",
       "      <td>748374</td>\n",
       "      <td>57527</td>\n",
       "      <td>2966</td>\n",
       "      <td>15954</td>\n",
       "      <td>0</td>\n",
       "      <td>0</td>\n",
       "      <td>0</td>\n",
       "      <td>SHANTELL'S CHANNEL - https://www.youtube.com/s...</td>\n",
       "      <td>17</td>\n",
       "      <td>0.950970</td>\n",
       "      <td>0</td>\n",
       "      <td>People &amp; Blogs</td>\n",
       "    </tr>\n",
       "    <tr>\n",
       "      <th>1</th>\n",
       "      <td>17.14.11</td>\n",
       "      <td>The Trump Presidency: Last Week Tonight with J...</td>\n",
       "      <td>LastWeekTonight</td>\n",
       "      <td>9</td>\n",
       "      <td>2017-11-13T07:30:00.000Z</td>\n",
       "      <td>last week tonight trump presidency last week t...</td>\n",
       "      <td>2418783</td>\n",
       "      <td>97185</td>\n",
       "      <td>6146</td>\n",
       "      <td>12703</td>\n",
       "      <td>0</td>\n",
       "      <td>0</td>\n",
       "      <td>0</td>\n",
       "      <td>One year presidential election, John Oliver di...</td>\n",
       "      <td>7</td>\n",
       "      <td>0.940521</td>\n",
       "      <td>0</td>\n",
       "      <td>Entertainment</td>\n",
       "    </tr>\n",
       "    <tr>\n",
       "      <th>2</th>\n",
       "      <td>17.14.11</td>\n",
       "      <td>Racist Superman | Rudy Mancuso, King Bach &amp; Le...</td>\n",
       "      <td>Rudy Mancuso</td>\n",
       "      <td>8</td>\n",
       "      <td>2017-11-12T19:05:24.000Z</td>\n",
       "      <td>racist superman rudy mancuso king bach racist ...</td>\n",
       "      <td>3191434</td>\n",
       "      <td>146033</td>\n",
       "      <td>5339</td>\n",
       "      <td>8181</td>\n",
       "      <td>0</td>\n",
       "      <td>0</td>\n",
       "      <td>0</td>\n",
       "      <td>WATCH MY PREVIOUS VIDEO ▶ \\n\\nSUBSCRIBE ► http...</td>\n",
       "      <td>19</td>\n",
       "      <td>0.964729</td>\n",
       "      <td>0</td>\n",
       "      <td>Comedy</td>\n",
       "    </tr>\n",
       "    <tr>\n",
       "      <th>3</th>\n",
       "      <td>17.14.11</td>\n",
       "      <td>Nickelback Lyrics: Real or Fake?</td>\n",
       "      <td>Good Mythical Morning</td>\n",
       "      <td>9</td>\n",
       "      <td>2017-11-13T11:00:04.000Z</td>\n",
       "      <td>rhett link gmm good mythical morning rhett lin...</td>\n",
       "      <td>343168</td>\n",
       "      <td>10172</td>\n",
       "      <td>666</td>\n",
       "      <td>2146</td>\n",
       "      <td>0</td>\n",
       "      <td>0</td>\n",
       "      <td>0</td>\n",
       "      <td>Today find Link Nickelback amateur secret Nick...</td>\n",
       "      <td>11</td>\n",
       "      <td>0.938550</td>\n",
       "      <td>0</td>\n",
       "      <td>Entertainment</td>\n",
       "    </tr>\n",
       "    <tr>\n",
       "      <th>4</th>\n",
       "      <td>17.14.11</td>\n",
       "      <td>I Dare You: GOING BALD!?</td>\n",
       "      <td>nigahiga</td>\n",
       "      <td>9</td>\n",
       "      <td>2017-11-12T18:01:41.000Z</td>\n",
       "      <td>ryan higa higatv nigahiga dare idy rhpc dares ...</td>\n",
       "      <td>2095731</td>\n",
       "      <td>132235</td>\n",
       "      <td>1989</td>\n",
       "      <td>17518</td>\n",
       "      <td>0</td>\n",
       "      <td>0</td>\n",
       "      <td>0</td>\n",
       "      <td>I know since show, we're back might best episo...</td>\n",
       "      <td>18</td>\n",
       "      <td>0.985181</td>\n",
       "      <td>0</td>\n",
       "      <td>Entertainment</td>\n",
       "    </tr>\n",
       "  </tbody>\n",
       "</table>\n",
       "</div>"
      ],
      "text/plain": [
       "  trending_date                                              title  \\\n",
       "0      17.14.11                 WE WANT TO TALK ABOUT OUR MARRIAGE   \n",
       "1      17.14.11  The Trump Presidency: Last Week Tonight with J...   \n",
       "2      17.14.11  Racist Superman | Rudy Mancuso, King Bach & Le...   \n",
       "3      17.14.11                   Nickelback Lyrics: Real or Fake?   \n",
       "4      17.14.11                           I Dare You: GOING BALD!?   \n",
       "\n",
       "           channel_title  category_id              publish_time  \\\n",
       "0           CaseyNeistat            7  2017-11-13T17:13:01.000Z   \n",
       "1        LastWeekTonight            9  2017-11-13T07:30:00.000Z   \n",
       "2           Rudy Mancuso            8  2017-11-12T19:05:24.000Z   \n",
       "3  Good Mythical Morning            9  2017-11-13T11:00:04.000Z   \n",
       "4               nigahiga            9  2017-11-12T18:01:41.000Z   \n",
       "\n",
       "                                                tags    views   likes  \\\n",
       "0                                    SHANtell martin   748374   57527   \n",
       "1  last week tonight trump presidency last week t...  2418783   97185   \n",
       "2  racist superman rudy mancuso king bach racist ...  3191434  146033   \n",
       "3  rhett link gmm good mythical morning rhett lin...   343168   10172   \n",
       "4  ryan higa higatv nigahiga dare idy rhpc dares ...  2095731  132235   \n",
       "\n",
       "   dislikes  comment_count  comments_disabled  ratings_disabled  \\\n",
       "0      2966          15954                  0                 0   \n",
       "1      6146          12703                  0                 0   \n",
       "2      5339           8181                  0                 0   \n",
       "3       666           2146                  0                 0   \n",
       "4      1989          17518                  0                 0   \n",
       "\n",
       "   video_error_or_removed                                        description  \\\n",
       "0                       0  SHANTELL'S CHANNEL - https://www.youtube.com/s...   \n",
       "1                       0  One year presidential election, John Oliver di...   \n",
       "2                       0  WATCH MY PREVIOUS VIDEO ▶ \\n\\nSUBSCRIBE ► http...   \n",
       "3                       0  Today find Link Nickelback amateur secret Nick...   \n",
       "4                       0  I know since show, we're back might best episo...   \n",
       "\n",
       "   publish_hour  like_dislike  anti_participation   category_name  \n",
       "0            17      0.950970                   0  People & Blogs  \n",
       "1             7      0.940521                   0   Entertainment  \n",
       "2            19      0.964729                   0          Comedy  \n",
       "3            11      0.938550                   0   Entertainment  \n",
       "4            18      0.985181                   0   Entertainment  "
      ]
     },
     "execution_count": 1,
     "metadata": {},
     "output_type": "execute_result"
    }
   ],
   "source": [
    "import matplotlib.pyplot as plt\n",
    "import tensorflow as tf\n",
    "import sklearn as sk\n",
    "import pandas as pd\n",
    "import numpy as np\n",
    "import nltk.corpus\n",
    "import nltk\n",
    "%matplotlib inline\n",
    "\n",
    "print(\"Num GPUs Available: \", len(tf.config.experimental.list_physical_devices('GPU')))\n",
    "\n",
    "df = pd.read_csv('./archive/USvideos.csv')\n",
    "categories = json.load(open('./archive/US_category_id.json', 'r'))\n",
    "\n",
    "# Drop unused columns\n",
    "df = df.drop(['thumbnail_link', 'video_id'], axis=1)\n",
    "df = df.dropna()\n",
    "\n",
    "# Enrich data\n",
    "df['publish_hour'] = pd.to_datetime(df['publish_time']).dt.hour\n",
    "df['comments_disabled'] = df['comments_disabled'].apply(lambda row: 0 if row == False else 1)\n",
    "df['ratings_disabled'] = df['ratings_disabled'].apply(lambda row: 0 if row == False else 1)\n",
    "df['video_error_or_removed'] = df['video_error_or_removed'].apply(lambda row: 0 if row == False else 1)\n",
    "df['like_dislike'] = df[['likes', 'dislikes']].apply(lambda row: row['likes'] / np.sum([row['likes'], row['dislikes']]), axis=1)\n",
    "df['tags'] = df['tags'].apply(lambda row: ' '.join( i.strip('\"\"') for i in row.split('|') ))\n",
    "df['anti_participation'] = df[['comments_disabled', 'ratings_disabled']].apply(lambda row: row.sum(), axis=1)\n",
    "\n",
    "category_name_mapping = {}\n",
    "for item in categories['items']:\n",
    "    category_name_mapping[int(item['id'])] = item['snippet']['title']\n",
    "df['category_name'] = df['category_id'].apply(lambda row: category_name_mapping[int(row)])\n",
    "\n",
    "category_le = sk.preprocessing.LabelEncoder()\n",
    "category_le.fit(df['category_id'])\n",
    "df['category_id'] = category_le.transform(df['category_id'])\n",
    "\n",
    "# Take out stop words\n",
    "nltk.download('stopwords')\n",
    "stop_words = set(nltk.corpus.stopwords.words('english'))\n",
    "df['tags'] = df['tags'].apply(lambda row: ' '.join(word for word in row.split() if word not in stop_words))\n",
    "df['description'] = df['description'].apply(lambda row: ' '.join(word for word in row.split() if word not in stop_words))\n",
    "\n",
    "\n",
    "df.head()"
   ]
  },
  {
   "cell_type": "code",
   "execution_count": 2,
   "metadata": {},
   "outputs": [
    {
     "data": {
      "text/plain": [
       "((40379, 845), (40379, 16))"
      ]
     },
     "execution_count": 2,
     "metadata": {},
     "output_type": "execute_result"
    }
   ],
   "source": [
    "def convert_to_sequences(x):\n",
    "    tokenizer = tf.keras.preprocessing.text.Tokenizer(lower=False)\n",
    "    tokenizer.fit_on_texts(x)\n",
    "    _sequences = tokenizer.texts_to_sequences(x)\n",
    "    maxlen = max(len(_seq) for _seq in _sequences)\n",
    "    vocab_size = len(tokenizer.word_index) + 1\n",
    "    _xtr = tf.keras.preprocessing.sequence.pad_sequences(_sequences, maxlen, padding='post')\n",
    "    \n",
    "    return np.array(_xtr), maxlen, vocab_size\n",
    "\n",
    "\n",
    "#X, maxlen, vocab_size = convert_to_sequences(df['tags'].to_numpy())\n",
    "X, maxlen, vocab_size = convert_to_sequences(df['description'].to_numpy())\n",
    "#X, maxlen, vocab_size = convert_to_sequences(df['title'].to_numpy())\n",
    "\n",
    "Y = tf.keras.utils.to_categorical(df['category_id'].to_numpy().reshape((-1,1)))\n",
    "\n",
    "X.shape, Y.shape"
   ]
  },
  {
   "cell_type": "code",
   "execution_count": 3,
   "metadata": {},
   "outputs": [],
   "source": [
    "Xtr, Xts, ytr, yts = sk.model_selection.train_test_split(X, Y, shuffle=True, test_size=0.5)"
   ]
  },
  {
   "cell_type": "code",
   "execution_count": 4,
   "metadata": {},
   "outputs": [
    {
     "data": {
      "text/plain": [
       "((20189, 845), (20189, 16))"
      ]
     },
     "execution_count": 4,
     "metadata": {},
     "output_type": "execute_result"
    }
   ],
   "source": [
    "Xtr.shape, ytr.shape"
   ]
  },
  {
   "cell_type": "code",
   "execution_count": 5,
   "metadata": {},
   "outputs": [
    {
     "name": "stdout",
     "output_type": "stream",
     "text": [
      "Model: \"sequential\"\n",
      "_________________________________________________________________\n",
      "Layer (type)                 Output Shape              Param #   \n",
      "=================================================================\n",
      "embedding (Embedding)        (None, 845, 1028)         89170776  \n",
      "_________________________________________________________________\n",
      "dropout (Dropout)            (None, 845, 1028)         0         \n",
      "_________________________________________________________________\n",
      "conv1d (Conv1D)              (None, 814, 128)          4210816   \n",
      "_________________________________________________________________\n",
      "conv1d_1 (Conv1D)            (None, 791, 64)           196672    \n",
      "_________________________________________________________________\n",
      "conv1d_2 (Conv1D)            (None, 776, 32)           32800     \n",
      "_________________________________________________________________\n",
      "dropout_1 (Dropout)          (None, 776, 32)           0         \n",
      "_________________________________________________________________\n",
      "dense (Dense)                (None, 776, 32)           1056      \n",
      "_________________________________________________________________\n",
      "flatten (Flatten)            (None, 24832)             0         \n",
      "_________________________________________________________________\n",
      "dense_1 (Dense)              (None, 16)                397328    \n",
      "=================================================================\n",
      "Total params: 94,009,448\n",
      "Trainable params: 94,009,448\n",
      "Non-trainable params: 0\n",
      "_________________________________________________________________\n"
     ]
    }
   ],
   "source": [
    "activation = 'relu'\n",
    "\n",
    "model = tf.keras.Sequential()\n",
    "\n",
    "model.add(tf.keras.layers.Input(shape=(maxlen,)))\n",
    "model.add(tf.keras.layers.Embedding(vocab_size, 1028))\n",
    "model.add(tf.keras.layers.Dropout(0.5))\n",
    "model.add(tf.keras.layers.Conv1D(filters=128, kernel_size=32, activation=activation))\n",
    "model.add(tf.keras.layers.Conv1D(filters=64, kernel_size=24, activation=activation))\n",
    "model.add(tf.keras.layers.Conv1D(filters=32, kernel_size=16, activation=activation))\n",
    "model.add(tf.keras.layers.Dropout(0.5))\n",
    "model.add(tf.keras.layers.Dense(32))\n",
    "model.add(tf.keras.layers.Flatten())\n",
    "model.add(tf.keras.layers.Dense(len(category_le.classes_), activation='softmax'))\n",
    "\n",
    "model.compile(\n",
    "    loss='categorical_crossentropy', \n",
    "    optimizer='adam', \n",
    "    metrics=['categorical_accuracy']\n",
    ")\n",
    "\n",
    "model.summary()"
   ]
  },
  {
   "cell_type": "code",
   "execution_count": 6,
   "metadata": {},
   "outputs": [
    {
     "name": "stdout",
     "output_type": "stream",
     "text": [
      "Epoch 1/10\n",
      "316/316 [==============================] - 225s 711ms/step - loss: 1.2687 - categorical_accuracy: 0.6122\n",
      "Epoch 2/10\n",
      "316/316 [==============================] - 228s 722ms/step - loss: 0.3312 - categorical_accuracy: 0.8997\n",
      "Epoch 3/10\n",
      "316/316 [==============================] - 228s 722ms/step - loss: 0.1677 - categorical_accuracy: 0.9479\n",
      "Epoch 4/10\n",
      "316/316 [==============================] - 227s 719ms/step - loss: 0.1898 - categorical_accuracy: 0.9504\n",
      "Epoch 5/10\n",
      "316/316 [==============================] - 228s 723ms/step - loss: 0.0808 - categorical_accuracy: 0.9767\n",
      "Epoch 6/10\n",
      "316/316 [==============================] - 228s 723ms/step - loss: 0.1224 - categorical_accuracy: 0.9741\n",
      "Epoch 7/10\n",
      "316/316 [==============================] - 228s 723ms/step - loss: 0.2272 - categorical_accuracy: 0.9564\n",
      "Epoch 8/10\n",
      "316/316 [==============================] - 227s 720ms/step - loss: 0.0750 - categorical_accuracy: 0.9807\n",
      "Epoch 9/10\n",
      "316/316 [==============================] - 228s 721ms/step - loss: 0.0588 - categorical_accuracy: 0.9865\n",
      "Epoch 10/10\n",
      "316/316 [==============================] - 228s 722ms/step - loss: 0.0535 - categorical_accuracy: 0.9876\n"
     ]
    }
   ],
   "source": [
    "history = model.fit(Xtr, ytr, epochs=10, batch_size=64)"
   ]
  },
  {
   "cell_type": "code",
   "execution_count": 7,
   "metadata": {},
   "outputs": [
    {
     "data": {
      "text/plain": [
       "{'loss': [1.268738865852356,\n",
       "  0.3312337398529053,\n",
       "  0.16774344444274902,\n",
       "  0.18980468809604645,\n",
       "  0.080787792801857,\n",
       "  0.12236066907644272,\n",
       "  0.22720791399478912,\n",
       "  0.07502175122499466,\n",
       "  0.058848001062870026,\n",
       "  0.053537338972091675],\n",
       " 'categorical_accuracy': [0.6122145652770996,\n",
       "  0.8996978402137756,\n",
       "  0.947892427444458,\n",
       "  0.9503690004348755,\n",
       "  0.9766704440116882,\n",
       "  0.974094808101654,\n",
       "  0.9564118981361389,\n",
       "  0.9806825518608093,\n",
       "  0.9865273237228394,\n",
       "  0.987617015838623]}"
      ]
     },
     "execution_count": 7,
     "metadata": {},
     "output_type": "execute_result"
    }
   ],
   "source": [
    "history.history"
   ]
  },
  {
   "cell_type": "code",
   "execution_count": 8,
   "metadata": {},
   "outputs": [
    {
     "data": {
      "image/png": "[encoded data removed]",
      "text/plain": [
       "<Figure size 432x288 with 1 Axes>"
      ]
     },
     "metadata": {
      "needs_background": "light"
     },
     "output_type": "display_data"
    },
    {
     "data": {
      "image/png": "[encoded data removed]",
      "text/plain": [
       "<Figure size 432x288 with 1 Axes>"
      ]
     },
     "metadata": {
      "needs_background": "light"
     },
     "output_type": "display_data"
    }
   ],
   "source": [
    "# Visualize history\n",
    "# Plot history: Loss\n",
    "plt.plot(history.history['loss'])\n",
    "plt.title('Validation loss history')\n",
    "plt.ylabel('Loss value')\n",
    "plt.xlabel('No. epoch')\n",
    "plt.show()\n",
    "\n",
    "# Plot history: Accuracy\n",
    "plt.plot(history.history['categorical_accuracy'])\n",
    "plt.title('Validation accuracy history')\n",
    "plt.ylabel('Accuracy value (%)')\n",
    "plt.xlabel('No. epoch')\n",
    "plt.show()"
   ]
  },
  {
   "cell_type": "code",
   "execution_count": 9,
   "metadata": {},
   "outputs": [
    {
     "name": "stdout",
     "output_type": "stream",
     "text": [
      "631/631 [==============================] - 25s 39ms/step - loss: 0.2449 - categorical_accuracy: 0.9703\n"
     ]
    },
    {
     "data": {
      "text/plain": [
       "[0.2449110895395279, 0.9703318476676941]"
      ]
     },
     "execution_count": 9,
     "metadata": {},
     "output_type": "execute_result"
    }
   ],
   "source": [
    "model.evaluate(Xts, yts)"
   ]
  },
  {
   "cell_type": "code",
   "execution_count": 10,
   "metadata": {},
   "outputs": [],
   "source": [
    "model.save('model.h5')"
   ]
  }
 ],
 "metadata": {
  "kernelspec": {
   "display_name": "Python 3",
   "language": "python",
   "name": "python3"
  },
  "language_info": {
   "codemirror_mode": {
    "name": "ipython",
    "version": 3
   },
   "file_extension": ".py",
   "mimetype": "text/x-python",
   "name": "python",
   "nbconvert_exporter": "python",
   "pygments_lexer": "ipython3",
   "version": "3.8.6"
  }
 },
 "nbformat": 4,
 "nbformat_minor": 4
}
