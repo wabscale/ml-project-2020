{
 "cells": [
  {
   "cell_type": "code",
   "execution_count": 1,
   "metadata": {},
   "outputs": [
    {
     "name": "stdout",
     "output_type": "stream",
     "text": [
      "Num GPUs Available:  1\n"
     ]
    }
   ],
   "source": [
    "from mpl_toolkits.mplot3d import axes3d\n",
    "from matplotlib import cm\n",
    "import matplotlib.pyplot as plt\n",
    "import sklearn as sk\n",
    "import pandas as pd\n",
    "import numpy as np\n",
    "import nltk.corpus\n",
    "import datetime\n",
    "import string\n",
    "import typing\n",
    "import nltk\n",
    "import time\n",
    "import os\n",
    "import io\n",
    "%matplotlib inline\n",
    "\n",
    "# disables tensorflow warnings \n",
    "os.environ['TF_CPP_MIN_LOG_LEVEL'] = '3'\n",
    "\n",
    "import tensorflow as tf\n",
    "from tensorboard.plugins import projector\n",
    "%load_ext tensorboard\n",
    "\n",
    "tf.get_logger().setLevel(\"ERROR\")\n",
    "tf.autograph.set_verbosity(3)\n",
    "\n",
    "print(\"Num GPUs Available: \", len(tf.config.experimental.list_physical_devices('GPU')))"
   ]
  },
  {
   "cell_type": "code",
   "execution_count": 2,
   "metadata": {},
   "outputs": [],
   "source": [
    "def load_region_data(region: str, language: str) -> pd.DataFrame:\n",
    "    parquet_filename = os.path.join('./archive','{}-{}.parquet.gz'.format(region, language))\n",
    "    if os.path.exists(parquet_filename):\n",
    "        df = pd.read_parquet(parquet_filename)\n",
    "        return df, df['category_id'].nunique()\n",
    "    \n",
    "    df = pd.read_csv('./archive/{}videos.csv'.format(region))\n",
    "\n",
    "    # Drop unused columns\n",
    "    df = df.drop(['thumbnail_link', 'video_id'], axis=1)\n",
    "    df = df.dropna()\n",
    "\n",
    "    # Enrich data\n",
    "    df['publish_hour'] = pd.to_datetime(df['publish_time']).dt.hour\n",
    "    df['comments_disabled'] = df['comments_disabled'].apply(lambda row: 0 if row == False else 1)\n",
    "    df['ratings_disabled'] = df['ratings_disabled'].apply(lambda row: 0 if row == False else 1)\n",
    "    df['video_error_or_removed'] = df['video_error_or_removed'].apply(lambda row: 0 if row == False else 1)\n",
    "    df['like_dislike'] = df[['likes', 'dislikes']].apply(lambda row: row['likes'] / np.sum([row['likes'], row['dislikes']]), axis=1)\n",
    "    df['tags'] = df['tags'].apply(lambda row: ' '.join( i.strip('\"\"') for i in row.split('|') ))\n",
    "    df['anti_participation'] = df[['comments_disabled', 'ratings_disabled']].apply(lambda row: row.sum(), axis=1)\n",
    "    df['morning_video'] = df['publish_hour'].apply(lambda t: 1 if t <= 12 else 0)\n",
    "    \n",
    "    df = df.dropna()\n",
    "\n",
    "    # Transform category_id to label\n",
    "    category_le = sk.preprocessing.LabelEncoder()\n",
    "    category_le.fit(df['category_id'])\n",
    "    df['category_id'] = category_le.transform(df['category_id'])\n",
    "\n",
    "    # Load stopwords\n",
    "    try:\n",
    "        stop_words = set(nltk.corpus.stopwords.words(language))\n",
    "    except Exception:\n",
    "        nltk.download('stopwords')\n",
    "        stop_words = set(nltk.corpus.stopwords.words(language))\n",
    "    \n",
    "    # Drop stopwords\n",
    "    df['tags'] = df['tags'].apply(lambda row: ' '.join(word for word in row.split() if word not in stop_words))\n",
    "    df['description'] = df['description'].apply(lambda row: ' '.join(word for word in row.split() if word not in stop_words))\n",
    "    \n",
    "    views = df['views'].to_numpy().reshape((-1,1))\n",
    "    view_scaler = sk.preprocessing.PowerTransformer()\n",
    "    df['views'] = view_scaler.fit_transform(views)\n",
    "    \n",
    "    likes = df['likes'].to_numpy().reshape((-1,1))\n",
    "    view_scaler = sk.preprocessing.StandardScaler()\n",
    "    df['likes'] = view_scaler.fit_transform(likes)\n",
    "    \n",
    "    dislikes = df['dislikes'].to_numpy().reshape((-1,1))\n",
    "    view_scaler = sk.preprocessing.StandardScaler()\n",
    "    df['dislikes'] = view_scaler.fit_transform(dislikes)\n",
    "    \n",
    "    df.to_parquet(parquet_filename, compression='gzip')\n",
    "    \n",
    "    return df, len(category_le.classes_)"
   ]
  },
  {
   "cell_type": "code",
   "execution_count": 3,
   "metadata": {},
   "outputs": [],
   "source": [
    "def create_xy(df: pd.DataFrame, feature: str) -> typing.Tuple[np.array, np.array]:\n",
    "    X = df[feature].to_numpy()\n",
    "    Y = df['category_id'].to_numpy().reshape((-1,1))\n",
    "    \n",
    "    return X, Y"
   ]
  },
  {
   "cell_type": "code",
   "execution_count": 4,
   "metadata": {},
   "outputs": [],
   "source": [
    "vocab_size = 10000\n",
    "sequence_length = 25\n",
    "\n",
    "def create_model(X, num_classes, activation='softmax', lower=True):\n",
    "    model = tf.keras.Sequential()\n",
    "    \n",
    "    vectorize_layer = tf.keras.layers.experimental.preprocessing.TextVectorization(\n",
    "        max_tokens=vocab_size,\n",
    "        output_mode='int',\n",
    "        output_sequence_length=sequence_length,\n",
    "        name='vectorize_layer',\n",
    "    )\n",
    "\n",
    "    vectorize_layer.adapt(X)\n",
    "\n",
    "    model.add(vectorize_layer)\n",
    "    model.add(tf.keras.layers.Embedding(vocab_size, 75,  name=\"embedding\"))\n",
    "    model.add(tf.keras.layers.Dropout(0.5))\n",
    "    model.add(tf.keras.layers.Conv1D(filters=64, kernel_size=8, activation=activation))\n",
    "    model.add(tf.keras.layers.Conv1D(filters=32, kernel_size=6, activation=activation))\n",
    "    model.add(tf.keras.layers.Conv1D(filters=16, kernel_size=4, activation=activation))\n",
    "    model.add(tf.keras.layers.Dropout(0.5))\n",
    "    model.add(tf.keras.layers.Dense(8))\n",
    "    model.add(tf.keras.layers.Flatten())\n",
    "    model.add(tf.keras.layers.Dense(num_classes, activation='relu'))\n",
    "\n",
    "    model.compile(\n",
    "        loss='categorical_crossentropy', \n",
    "        optimizer='adam', \n",
    "        metrics=['categorical_accuracy'],\n",
    "    )\n",
    "    \n",
    "    return model"
   ]
  },
  {
   "cell_type": "code",
   "execution_count": 5,
   "metadata": {},
   "outputs": [],
   "source": [
    "# Initialize history variables\n",
    "\n",
    "def train_model(model, X, Y, n_splits=10, epochs=3):\n",
    "    loss_history, accuracy_history = [[],[]], [[],[]]\n",
    "\n",
    "    to_categorical = tf.keras.utils.to_categorical\n",
    "\n",
    "    # tensorboard\n",
    "    log_dir = \"logs/fit/\" + datetime.datetime.now().strftime(\"%Y%m%d-%H%M%S\")\n",
    "    tensorboard_callback = tf.keras.callbacks.TensorBoard(\n",
    "        log_dir=log_dir,\n",
    "        embeddings_freq=1,\n",
    "    )\n",
    "    !rm -rf logs/\n",
    "\n",
    "    # Kfold cross validation\n",
    "    skf = sk.model_selection.StratifiedKFold(n_splits=n_splits, shuffle=True)\n",
    "    for train_index, val_index in skf.split(X, Y):\n",
    "        # Get train and test fold\n",
    "        xtrain, xval = X[train_index], X[val_index]\n",
    "    \n",
    "        # We need to convert the Y to a categorical type in order for the \n",
    "        # multi-classifier to train and validate properly\n",
    "        ytrain = to_categorical(Y[train_index], num_classes=num_classes)\n",
    "        yval = to_categorical(Y[val_index], num_classes=num_classes)\n",
    "    \n",
    "        # Train and validate\n",
    "        history = model.fit(xtrain, ytrain, validation_data=(xval, yval), verbose=0,\n",
    "                            epochs=epochs, batch_size=128, callbacks=[tensorboard_callback])\n",
    "    \n",
    "        # Add values to training history\n",
    "        loss_history[0].extend(history.history['val_loss'])\n",
    "        loss_history[1].extend(history.history['loss'])\n",
    "        accuracy_history[0].extend(history.history['val_categorical_accuracy'])\n",
    "        accuracy_history[1].extend(history.history['categorical_accuracy'])\n",
    "        \n",
    "    return model, loss_history, accuracy_history, log_dir"
   ]
  },
  {
   "cell_type": "code",
   "execution_count": 6,
   "metadata": {},
   "outputs": [],
   "source": [
    "def write_embedding_meta(model, log_dir):\n",
    "    weights = model.get_layer('embedding').get_weights()[0]\n",
    "    vocab = model.get_layer('vectorize_layer').get_vocabulary()\n",
    "\n",
    "    metaf = io.open(os.path.join(log_dir, 'metadata.tsv'), 'w', encoding='utf-8')\n",
    "\n",
    "    for index, word in enumerate(vocab):\n",
    "        if index == 0: metaf.write('padding\\n') # first is padding\n",
    "        metaf.write(word + \"\\n\")\n",
    "\n",
    "    metaf.close()"
   ]
  },
  {
   "cell_type": "code",
   "execution_count": 7,
   "metadata": {},
   "outputs": [],
   "source": [
    "def plot_val_loss(title, loss_history, accuracy_history):\n",
    "    fig, axs = plt.subplots(2)\n",
    "    axs[0].plot(loss_history[0], label='validation')\n",
    "    axs[0].plot(loss_history[1], label='train')\n",
    "    axs[0].set(title='Validation loss history', xlabel='No. split', ylabel='Loss value')\n",
    "    axs[0].legend()\n",
    "\n",
    "    axs[1].plot(accuracy_history[0], label='validation')\n",
    "    axs[1].plot(accuracy_history[1], label='train')\n",
    "    axs[1].set(title='Validation accuracy history', xlabel='No. split', ylabel='Accuracy value')\n",
    "    axs[1].legend()\n",
    "\n",
    "    fig.subtitle(title)\n",
    "    fig.tight_layout()\n",
    "    plt.show()"
   ]
  },
  {
   "cell_type": "code",
   "execution_count": 10,
   "metadata": {},
   "outputs": [
    {
     "name": "stdout",
     "output_type": "stream",
     "text": [
      "model finished US english title 1 5 52.28s\n",
      "model finished US english title 1 6 52.47s\n",
      "model finished US english title 1 7 52.40s\n",
      "model finished US english title 1 8 52.26s\n",
      "model finished US english title 1 9 52.87s\n",
      "model finished US english title 1 10 52.65s\n",
      "model finished US english title 2 5 51.90s\n",
      "model finished US english title 2 6 51.98s\n",
      "model finished US english title 2 7 52.34s\n",
      "model finished US english title 2 8 52.38s\n",
      "model finished US english title 2 9 52.59s\n",
      "model finished US english title 2 10 52.00s\n",
      "model finished US english tags 1 5 55.88s\n",
      "model finished US english tags 1 6 57.33s\n",
      "model finished US english tags 1 7 56.53s\n",
      "model finished US english tags 1 8 57.12s\n",
      "model finished US english tags 1 9 57.26s\n",
      "model finished US english tags 1 10 57.12s\n",
      "model finished US english tags 2 5 57.00s\n",
      "model finished US english tags 2 6 56.30s\n",
      "model finished US english tags 2 7 56.17s\n",
      "model finished US english tags 2 8 52.48s\n",
      "model finished US english tags 2 9 52.62s\n",
      "model finished US english tags 2 10 52.07s\n",
      "finished region US in 21.612428 mins\n"
     ]
    },
    {
     "name": "stderr",
     "output_type": "stream",
     "text": [
      "<ipython-input-2-80f0187a23f4>:18: RuntimeWarning: invalid value encountered in long_scalars\n",
      "  df['like_dislike'] = df[['likes', 'dislikes']].apply(lambda row: row['likes'] / np.sum([row['likes'], row['dislikes']]), axis=1)\n",
      "/home/jc/nyu/ml/proj/venv/lib/python3.8/site-packages/sklearn/preprocessing/_data.py:2995: RuntimeWarning: divide by zero encountered in log\n",
      "  loglike = -n_samples / 2 * np.log(x_trans.var())\n",
      "/home/jc/nyu/ml/proj/venv/lib/python3.8/site-packages/sklearn/model_selection/_split.py:670: UserWarning: The least populated class in y has only 2 members, which is less than n_splits=10.\n",
      "  warnings.warn((\"The least populated class in y has only %d\"\n"
     ]
    },
    {
     "name": "stdout",
     "output_type": "stream",
     "text": [
      "model finished FR french title 1 5 45.67s\n"
     ]
    },
    {
     "name": "stderr",
     "output_type": "stream",
     "text": [
      "/home/jc/nyu/ml/proj/venv/lib/python3.8/site-packages/sklearn/model_selection/_split.py:670: UserWarning: The least populated class in y has only 2 members, which is less than n_splits=10.\n",
      "  warnings.warn((\"The least populated class in y has only %d\"\n"
     ]
    },
    {
     "name": "stdout",
     "output_type": "stream",
     "text": [
      "model finished FR french title 1 6 45.19s\n"
     ]
    },
    {
     "name": "stderr",
     "output_type": "stream",
     "text": [
      "/home/jc/nyu/ml/proj/venv/lib/python3.8/site-packages/sklearn/model_selection/_split.py:670: UserWarning: The least populated class in y has only 2 members, which is less than n_splits=10.\n",
      "  warnings.warn((\"The least populated class in y has only %d\"\n"
     ]
    },
    {
     "name": "stdout",
     "output_type": "stream",
     "text": [
      "model finished FR french title 1 7 44.47s\n"
     ]
    },
    {
     "name": "stderr",
     "output_type": "stream",
     "text": [
      "/home/jc/nyu/ml/proj/venv/lib/python3.8/site-packages/sklearn/model_selection/_split.py:670: UserWarning: The least populated class in y has only 2 members, which is less than n_splits=10.\n",
      "  warnings.warn((\"The least populated class in y has only %d\"\n"
     ]
    },
    {
     "name": "stdout",
     "output_type": "stream",
     "text": [
      "model finished FR french title 1 8 44.05s\n"
     ]
    },
    {
     "name": "stderr",
     "output_type": "stream",
     "text": [
      "/home/jc/nyu/ml/proj/venv/lib/python3.8/site-packages/sklearn/model_selection/_split.py:670: UserWarning: The least populated class in y has only 2 members, which is less than n_splits=10.\n",
      "  warnings.warn((\"The least populated class in y has only %d\"\n"
     ]
    },
    {
     "name": "stdout",
     "output_type": "stream",
     "text": [
      "model finished FR french title 1 9 45.94s\n"
     ]
    },
    {
     "name": "stderr",
     "output_type": "stream",
     "text": [
      "/home/jc/nyu/ml/proj/venv/lib/python3.8/site-packages/sklearn/model_selection/_split.py:670: UserWarning: The least populated class in y has only 2 members, which is less than n_splits=10.\n",
      "  warnings.warn((\"The least populated class in y has only %d\"\n"
     ]
    },
    {
     "name": "stdout",
     "output_type": "stream",
     "text": [
      "model finished FR french title 1 10 46.60s\n"
     ]
    },
    {
     "name": "stderr",
     "output_type": "stream",
     "text": [
      "/home/jc/nyu/ml/proj/venv/lib/python3.8/site-packages/sklearn/model_selection/_split.py:670: UserWarning: The least populated class in y has only 2 members, which is less than n_splits=10.\n",
      "  warnings.warn((\"The least populated class in y has only %d\"\n"
     ]
    },
    {
     "name": "stdout",
     "output_type": "stream",
     "text": [
      "model finished FR french title 2 5 45.28s\n"
     ]
    },
    {
     "name": "stderr",
     "output_type": "stream",
     "text": [
      "/home/jc/nyu/ml/proj/venv/lib/python3.8/site-packages/sklearn/model_selection/_split.py:670: UserWarning: The least populated class in y has only 2 members, which is less than n_splits=10.\n",
      "  warnings.warn((\"The least populated class in y has only %d\"\n"
     ]
    },
    {
     "name": "stdout",
     "output_type": "stream",
     "text": [
      "model finished FR french title 2 6 44.62s\n"
     ]
    },
    {
     "name": "stderr",
     "output_type": "stream",
     "text": [
      "/home/jc/nyu/ml/proj/venv/lib/python3.8/site-packages/sklearn/model_selection/_split.py:670: UserWarning: The least populated class in y has only 2 members, which is less than n_splits=10.\n",
      "  warnings.warn((\"The least populated class in y has only %d\"\n"
     ]
    },
    {
     "name": "stdout",
     "output_type": "stream",
     "text": [
      "model finished FR french title 2 7 44.34s\n"
     ]
    },
    {
     "name": "stderr",
     "output_type": "stream",
     "text": [
      "/home/jc/nyu/ml/proj/venv/lib/python3.8/site-packages/sklearn/model_selection/_split.py:670: UserWarning: The least populated class in y has only 2 members, which is less than n_splits=10.\n",
      "  warnings.warn((\"The least populated class in y has only %d\"\n"
     ]
    },
    {
     "name": "stdout",
     "output_type": "stream",
     "text": [
      "model finished FR french title 2 8 46.73s\n"
     ]
    },
    {
     "name": "stderr",
     "output_type": "stream",
     "text": [
      "/home/jc/nyu/ml/proj/venv/lib/python3.8/site-packages/sklearn/model_selection/_split.py:670: UserWarning: The least populated class in y has only 2 members, which is less than n_splits=10.\n",
      "  warnings.warn((\"The least populated class in y has only %d\"\n"
     ]
    },
    {
     "name": "stdout",
     "output_type": "stream",
     "text": [
      "model finished FR french title 2 9 47.25s\n"
     ]
    },
    {
     "name": "stderr",
     "output_type": "stream",
     "text": [
      "/home/jc/nyu/ml/proj/venv/lib/python3.8/site-packages/sklearn/model_selection/_split.py:670: UserWarning: The least populated class in y has only 2 members, which is less than n_splits=10.\n",
      "  warnings.warn((\"The least populated class in y has only %d\"\n"
     ]
    },
    {
     "name": "stdout",
     "output_type": "stream",
     "text": [
      "model finished FR french title 2 10 45.79s\n"
     ]
    },
    {
     "name": "stderr",
     "output_type": "stream",
     "text": [
      "/home/jc/nyu/ml/proj/venv/lib/python3.8/site-packages/sklearn/model_selection/_split.py:670: UserWarning: The least populated class in y has only 2 members, which is less than n_splits=10.\n",
      "  warnings.warn((\"The least populated class in y has only %d\"\n"
     ]
    },
    {
     "name": "stdout",
     "output_type": "stream",
     "text": [
      "model finished FR french tags 1 5 48.25s\n"
     ]
    },
    {
     "name": "stderr",
     "output_type": "stream",
     "text": [
      "/home/jc/nyu/ml/proj/venv/lib/python3.8/site-packages/sklearn/model_selection/_split.py:670: UserWarning: The least populated class in y has only 2 members, which is less than n_splits=10.\n",
      "  warnings.warn((\"The least populated class in y has only %d\"\n"
     ]
    },
    {
     "name": "stdout",
     "output_type": "stream",
     "text": [
      "model finished FR french tags 1 6 47.96s\n"
     ]
    },
    {
     "name": "stderr",
     "output_type": "stream",
     "text": [
      "/home/jc/nyu/ml/proj/venv/lib/python3.8/site-packages/sklearn/model_selection/_split.py:670: UserWarning: The least populated class in y has only 2 members, which is less than n_splits=10.\n",
      "  warnings.warn((\"The least populated class in y has only %d\"\n"
     ]
    },
    {
     "name": "stdout",
     "output_type": "stream",
     "text": [
      "model finished FR french tags 1 7 49.51s\n"
     ]
    },
    {
     "name": "stderr",
     "output_type": "stream",
     "text": [
      "/home/jc/nyu/ml/proj/venv/lib/python3.8/site-packages/sklearn/model_selection/_split.py:670: UserWarning: The least populated class in y has only 2 members, which is less than n_splits=10.\n",
      "  warnings.warn((\"The least populated class in y has only %d\"\n"
     ]
    },
    {
     "name": "stdout",
     "output_type": "stream",
     "text": [
      "model finished FR french tags 1 8 49.20s\n"
     ]
    },
    {
     "name": "stderr",
     "output_type": "stream",
     "text": [
      "/home/jc/nyu/ml/proj/venv/lib/python3.8/site-packages/sklearn/model_selection/_split.py:670: UserWarning: The least populated class in y has only 2 members, which is less than n_splits=10.\n",
      "  warnings.warn((\"The least populated class in y has only %d\"\n"
     ]
    },
    {
     "name": "stdout",
     "output_type": "stream",
     "text": [
      "model finished FR french tags 1 9 48.61s\n"
     ]
    },
    {
     "name": "stderr",
     "output_type": "stream",
     "text": [
      "/home/jc/nyu/ml/proj/venv/lib/python3.8/site-packages/sklearn/model_selection/_split.py:670: UserWarning: The least populated class in y has only 2 members, which is less than n_splits=10.\n",
      "  warnings.warn((\"The least populated class in y has only %d\"\n"
     ]
    },
    {
     "name": "stdout",
     "output_type": "stream",
     "text": [
      "model finished FR french tags 1 10 48.21s\n"
     ]
    },
    {
     "name": "stderr",
     "output_type": "stream",
     "text": [
      "/home/jc/nyu/ml/proj/venv/lib/python3.8/site-packages/sklearn/model_selection/_split.py:670: UserWarning: The least populated class in y has only 2 members, which is less than n_splits=10.\n",
      "  warnings.warn((\"The least populated class in y has only %d\"\n"
     ]
    },
    {
     "name": "stdout",
     "output_type": "stream",
     "text": [
      "model finished FR french tags 2 5 48.30s\n"
     ]
    },
    {
     "name": "stderr",
     "output_type": "stream",
     "text": [
      "/home/jc/nyu/ml/proj/venv/lib/python3.8/site-packages/sklearn/model_selection/_split.py:670: UserWarning: The least populated class in y has only 2 members, which is less than n_splits=10.\n",
      "  warnings.warn((\"The least populated class in y has only %d\"\n"
     ]
    },
    {
     "name": "stdout",
     "output_type": "stream",
     "text": [
      "model finished FR french tags 2 6 48.69s\n"
     ]
    },
    {
     "name": "stderr",
     "output_type": "stream",
     "text": [
      "/home/jc/nyu/ml/proj/venv/lib/python3.8/site-packages/sklearn/model_selection/_split.py:670: UserWarning: The least populated class in y has only 2 members, which is less than n_splits=10.\n",
      "  warnings.warn((\"The least populated class in y has only %d\"\n"
     ]
    },
    {
     "name": "stdout",
     "output_type": "stream",
     "text": [
      "model finished FR french tags 2 7 49.44s\n"
     ]
    },
    {
     "name": "stderr",
     "output_type": "stream",
     "text": [
      "/home/jc/nyu/ml/proj/venv/lib/python3.8/site-packages/sklearn/model_selection/_split.py:670: UserWarning: The least populated class in y has only 2 members, which is less than n_splits=10.\n",
      "  warnings.warn((\"The least populated class in y has only %d\"\n"
     ]
    },
    {
     "name": "stdout",
     "output_type": "stream",
     "text": [
      "model finished FR french tags 2 8 48.85s\n"
     ]
    },
    {
     "name": "stderr",
     "output_type": "stream",
     "text": [
      "/home/jc/nyu/ml/proj/venv/lib/python3.8/site-packages/sklearn/model_selection/_split.py:670: UserWarning: The least populated class in y has only 2 members, which is less than n_splits=10.\n",
      "  warnings.warn((\"The least populated class in y has only %d\"\n"
     ]
    },
    {
     "name": "stdout",
     "output_type": "stream",
     "text": [
      "model finished FR french tags 2 9 48.23s\n"
     ]
    },
    {
     "name": "stderr",
     "output_type": "stream",
     "text": [
      "/home/jc/nyu/ml/proj/venv/lib/python3.8/site-packages/sklearn/model_selection/_split.py:670: UserWarning: The least populated class in y has only 2 members, which is less than n_splits=10.\n",
      "  warnings.warn((\"The least populated class in y has only %d\"\n"
     ]
    },
    {
     "name": "stdout",
     "output_type": "stream",
     "text": [
      "model finished FR french tags 2 10 48.02s\n",
      "finished region FR in 18.911241 mins\n"
     ]
    },
    {
     "name": "stderr",
     "output_type": "stream",
     "text": [
      "<ipython-input-2-80f0187a23f4>:18: RuntimeWarning: invalid value encountered in long_scalars\n",
      "  df['like_dislike'] = df[['likes', 'dislikes']].apply(lambda row: row['likes'] / np.sum([row['likes'], row['dislikes']]), axis=1)\n",
      "/home/jc/nyu/ml/proj/venv/lib/python3.8/site-packages/sklearn/model_selection/_split.py:670: UserWarning: The least populated class in y has only 2 members, which is less than n_splits=10.\n",
      "  warnings.warn((\"The least populated class in y has only %d\"\n"
     ]
    },
    {
     "name": "stdout",
     "output_type": "stream",
     "text": [
      "model finished DE german title 1 5 50.49s\n"
     ]
    },
    {
     "name": "stderr",
     "output_type": "stream",
     "text": [
      "/home/jc/nyu/ml/proj/venv/lib/python3.8/site-packages/sklearn/model_selection/_split.py:670: UserWarning: The least populated class in y has only 2 members, which is less than n_splits=10.\n",
      "  warnings.warn((\"The least populated class in y has only %d\"\n"
     ]
    },
    {
     "name": "stdout",
     "output_type": "stream",
     "text": [
      "model finished DE german title 1 6 49.14s\n"
     ]
    },
    {
     "name": "stderr",
     "output_type": "stream",
     "text": [
      "/home/jc/nyu/ml/proj/venv/lib/python3.8/site-packages/sklearn/model_selection/_split.py:670: UserWarning: The least populated class in y has only 2 members, which is less than n_splits=10.\n",
      "  warnings.warn((\"The least populated class in y has only %d\"\n"
     ]
    },
    {
     "name": "stdout",
     "output_type": "stream",
     "text": [
      "model finished DE german title 1 7 48.33s\n"
     ]
    },
    {
     "name": "stderr",
     "output_type": "stream",
     "text": [
      "/home/jc/nyu/ml/proj/venv/lib/python3.8/site-packages/sklearn/model_selection/_split.py:670: UserWarning: The least populated class in y has only 2 members, which is less than n_splits=10.\n",
      "  warnings.warn((\"The least populated class in y has only %d\"\n"
     ]
    },
    {
     "name": "stdout",
     "output_type": "stream",
     "text": [
      "model finished DE german title 1 8 48.03s\n"
     ]
    },
    {
     "name": "stderr",
     "output_type": "stream",
     "text": [
      "/home/jc/nyu/ml/proj/venv/lib/python3.8/site-packages/sklearn/model_selection/_split.py:670: UserWarning: The least populated class in y has only 2 members, which is less than n_splits=10.\n",
      "  warnings.warn((\"The least populated class in y has only %d\"\n"
     ]
    },
    {
     "name": "stdout",
     "output_type": "stream",
     "text": [
      "model finished DE german title 1 9 50.58s\n"
     ]
    },
    {
     "name": "stderr",
     "output_type": "stream",
     "text": [
      "/home/jc/nyu/ml/proj/venv/lib/python3.8/site-packages/sklearn/model_selection/_split.py:670: UserWarning: The least populated class in y has only 2 members, which is less than n_splits=10.\n",
      "  warnings.warn((\"The least populated class in y has only %d\"\n"
     ]
    },
    {
     "name": "stdout",
     "output_type": "stream",
     "text": [
      "model finished DE german title 1 10 50.05s\n"
     ]
    },
    {
     "name": "stderr",
     "output_type": "stream",
     "text": [
      "/home/jc/nyu/ml/proj/venv/lib/python3.8/site-packages/sklearn/model_selection/_split.py:670: UserWarning: The least populated class in y has only 2 members, which is less than n_splits=10.\n",
      "  warnings.warn((\"The least populated class in y has only %d\"\n"
     ]
    },
    {
     "name": "stdout",
     "output_type": "stream",
     "text": [
      "model finished DE german title 2 5 49.13s\n"
     ]
    },
    {
     "name": "stderr",
     "output_type": "stream",
     "text": [
      "/home/jc/nyu/ml/proj/venv/lib/python3.8/site-packages/sklearn/model_selection/_split.py:670: UserWarning: The least populated class in y has only 2 members, which is less than n_splits=10.\n",
      "  warnings.warn((\"The least populated class in y has only %d\"\n"
     ]
    },
    {
     "name": "stdout",
     "output_type": "stream",
     "text": [
      "model finished DE german title 2 6 48.41s\n"
     ]
    },
    {
     "name": "stderr",
     "output_type": "stream",
     "text": [
      "/home/jc/nyu/ml/proj/venv/lib/python3.8/site-packages/sklearn/model_selection/_split.py:670: UserWarning: The least populated class in y has only 2 members, which is less than n_splits=10.\n",
      "  warnings.warn((\"The least populated class in y has only %d\"\n"
     ]
    },
    {
     "name": "stdout",
     "output_type": "stream",
     "text": [
      "model finished DE german title 2 7 48.46s\n"
     ]
    },
    {
     "name": "stderr",
     "output_type": "stream",
     "text": [
      "/home/jc/nyu/ml/proj/venv/lib/python3.8/site-packages/sklearn/model_selection/_split.py:670: UserWarning: The least populated class in y has only 2 members, which is less than n_splits=10.\n",
      "  warnings.warn((\"The least populated class in y has only %d\"\n"
     ]
    },
    {
     "name": "stdout",
     "output_type": "stream",
     "text": [
      "model finished DE german title 2 8 49.60s\n"
     ]
    },
    {
     "name": "stderr",
     "output_type": "stream",
     "text": [
      "/home/jc/nyu/ml/proj/venv/lib/python3.8/site-packages/sklearn/model_selection/_split.py:670: UserWarning: The least populated class in y has only 2 members, which is less than n_splits=10.\n",
      "  warnings.warn((\"The least populated class in y has only %d\"\n"
     ]
    },
    {
     "name": "stdout",
     "output_type": "stream",
     "text": [
      "model finished DE german title 2 9 51.76s\n"
     ]
    },
    {
     "name": "stderr",
     "output_type": "stream",
     "text": [
      "/home/jc/nyu/ml/proj/venv/lib/python3.8/site-packages/sklearn/model_selection/_split.py:670: UserWarning: The least populated class in y has only 2 members, which is less than n_splits=10.\n",
      "  warnings.warn((\"The least populated class in y has only %d\"\n"
     ]
    },
    {
     "name": "stdout",
     "output_type": "stream",
     "text": [
      "model finished DE german title 2 10 50.35s\n"
     ]
    },
    {
     "name": "stderr",
     "output_type": "stream",
     "text": [
      "/home/jc/nyu/ml/proj/venv/lib/python3.8/site-packages/sklearn/model_selection/_split.py:670: UserWarning: The least populated class in y has only 2 members, which is less than n_splits=10.\n",
      "  warnings.warn((\"The least populated class in y has only %d\"\n"
     ]
    },
    {
     "name": "stdout",
     "output_type": "stream",
     "text": [
      "model finished DE german tags 1 5 53.61s\n"
     ]
    },
    {
     "name": "stderr",
     "output_type": "stream",
     "text": [
      "/home/jc/nyu/ml/proj/venv/lib/python3.8/site-packages/sklearn/model_selection/_split.py:670: UserWarning: The least populated class in y has only 2 members, which is less than n_splits=10.\n",
      "  warnings.warn((\"The least populated class in y has only %d\"\n"
     ]
    },
    {
     "name": "stdout",
     "output_type": "stream",
     "text": [
      "model finished DE german tags 1 6 52.58s\n"
     ]
    },
    {
     "name": "stderr",
     "output_type": "stream",
     "text": [
      "/home/jc/nyu/ml/proj/venv/lib/python3.8/site-packages/sklearn/model_selection/_split.py:670: UserWarning: The least populated class in y has only 2 members, which is less than n_splits=10.\n",
      "  warnings.warn((\"The least populated class in y has only %d\"\n"
     ]
    },
    {
     "name": "stdout",
     "output_type": "stream",
     "text": [
      "model finished DE german tags 1 7 52.26s\n"
     ]
    },
    {
     "name": "stderr",
     "output_type": "stream",
     "text": [
      "/home/jc/nyu/ml/proj/venv/lib/python3.8/site-packages/sklearn/model_selection/_split.py:670: UserWarning: The least populated class in y has only 2 members, which is less than n_splits=10.\n",
      "  warnings.warn((\"The least populated class in y has only %d\"\n"
     ]
    },
    {
     "name": "stdout",
     "output_type": "stream",
     "text": [
      "model finished DE german tags 1 8 53.41s\n"
     ]
    },
    {
     "name": "stderr",
     "output_type": "stream",
     "text": [
      "/home/jc/nyu/ml/proj/venv/lib/python3.8/site-packages/sklearn/model_selection/_split.py:670: UserWarning: The least populated class in y has only 2 members, which is less than n_splits=10.\n",
      "  warnings.warn((\"The least populated class in y has only %d\"\n"
     ]
    },
    {
     "name": "stdout",
     "output_type": "stream",
     "text": [
      "model finished DE german tags 1 9 54.28s\n"
     ]
    },
    {
     "name": "stderr",
     "output_type": "stream",
     "text": [
      "/home/jc/nyu/ml/proj/venv/lib/python3.8/site-packages/sklearn/model_selection/_split.py:670: UserWarning: The least populated class in y has only 2 members, which is less than n_splits=10.\n",
      "  warnings.warn((\"The least populated class in y has only %d\"\n"
     ]
    },
    {
     "name": "stdout",
     "output_type": "stream",
     "text": [
      "model finished DE german tags 1 10 52.36s\n"
     ]
    },
    {
     "name": "stderr",
     "output_type": "stream",
     "text": [
      "/home/jc/nyu/ml/proj/venv/lib/python3.8/site-packages/sklearn/model_selection/_split.py:670: UserWarning: The least populated class in y has only 2 members, which is less than n_splits=10.\n",
      "  warnings.warn((\"The least populated class in y has only %d\"\n"
     ]
    },
    {
     "name": "stdout",
     "output_type": "stream",
     "text": [
      "model finished DE german tags 2 5 53.17s\n"
     ]
    },
    {
     "name": "stderr",
     "output_type": "stream",
     "text": [
      "/home/jc/nyu/ml/proj/venv/lib/python3.8/site-packages/sklearn/model_selection/_split.py:670: UserWarning: The least populated class in y has only 2 members, which is less than n_splits=10.\n",
      "  warnings.warn((\"The least populated class in y has only %d\"\n"
     ]
    },
    {
     "name": "stdout",
     "output_type": "stream",
     "text": [
      "model finished DE german tags 2 6 52.96s\n"
     ]
    },
    {
     "name": "stderr",
     "output_type": "stream",
     "text": [
      "/home/jc/nyu/ml/proj/venv/lib/python3.8/site-packages/sklearn/model_selection/_split.py:670: UserWarning: The least populated class in y has only 2 members, which is less than n_splits=10.\n",
      "  warnings.warn((\"The least populated class in y has only %d\"\n"
     ]
    },
    {
     "name": "stdout",
     "output_type": "stream",
     "text": [
      "model finished DE german tags 2 7 53.54s\n"
     ]
    },
    {
     "name": "stderr",
     "output_type": "stream",
     "text": [
      "/home/jc/nyu/ml/proj/venv/lib/python3.8/site-packages/sklearn/model_selection/_split.py:670: UserWarning: The least populated class in y has only 2 members, which is less than n_splits=10.\n",
      "  warnings.warn((\"The least populated class in y has only %d\"\n"
     ]
    },
    {
     "name": "stdout",
     "output_type": "stream",
     "text": [
      "model finished DE german tags 2 8 54.71s\n"
     ]
    },
    {
     "name": "stderr",
     "output_type": "stream",
     "text": [
      "/home/jc/nyu/ml/proj/venv/lib/python3.8/site-packages/sklearn/model_selection/_split.py:670: UserWarning: The least populated class in y has only 2 members, which is less than n_splits=10.\n",
      "  warnings.warn((\"The least populated class in y has only %d\"\n"
     ]
    },
    {
     "name": "stdout",
     "output_type": "stream",
     "text": [
      "model finished DE german tags 2 9 54.83s\n"
     ]
    },
    {
     "name": "stderr",
     "output_type": "stream",
     "text": [
      "/home/jc/nyu/ml/proj/venv/lib/python3.8/site-packages/sklearn/model_selection/_split.py:670: UserWarning: The least populated class in y has only 2 members, which is less than n_splits=10.\n",
      "  warnings.warn((\"The least populated class in y has only %d\"\n"
     ]
    },
    {
     "name": "stdout",
     "output_type": "stream",
     "text": [
      "model finished DE german tags 2 10 53.97s\n",
      "finished region DE in 20.701080 mins\n"
     ]
    },
    {
     "data": {
      "text/html": [
       "<div>\n",
       "<style scoped>\n",
       "    .dataframe tbody tr th:only-of-type {\n",
       "        vertical-align: middle;\n",
       "    }\n",
       "\n",
       "    .dataframe tbody tr th {\n",
       "        vertical-align: top;\n",
       "    }\n",
       "\n",
       "    .dataframe thead th {\n",
       "        text-align: right;\n",
       "    }\n",
       "</style>\n",
       "<table border=\"1\" class=\"dataframe\">\n",
       "  <thead>\n",
       "    <tr style=\"text-align: right;\">\n",
       "      <th></th>\n",
       "      <th>region</th>\n",
       "      <th>lang</th>\n",
       "      <th>feat</th>\n",
       "      <th>epochs</th>\n",
       "      <th>kfolds</th>\n",
       "      <th>accuracy</th>\n",
       "    </tr>\n",
       "  </thead>\n",
       "  <tbody>\n",
       "    <tr>\n",
       "      <th>0</th>\n",
       "      <td>US</td>\n",
       "      <td>english</td>\n",
       "      <td>title</td>\n",
       "      <td>1</td>\n",
       "      <td>5</td>\n",
       "      <td>0.600995</td>\n",
       "    </tr>\n",
       "    <tr>\n",
       "      <th>1</th>\n",
       "      <td>US</td>\n",
       "      <td>english</td>\n",
       "      <td>title</td>\n",
       "      <td>1</td>\n",
       "      <td>6</td>\n",
       "      <td>0.591542</td>\n",
       "    </tr>\n",
       "    <tr>\n",
       "      <th>2</th>\n",
       "      <td>US</td>\n",
       "      <td>english</td>\n",
       "      <td>title</td>\n",
       "      <td>1</td>\n",
       "      <td>7</td>\n",
       "      <td>0.664677</td>\n",
       "    </tr>\n",
       "    <tr>\n",
       "      <th>3</th>\n",
       "      <td>US</td>\n",
       "      <td>english</td>\n",
       "      <td>title</td>\n",
       "      <td>1</td>\n",
       "      <td>8</td>\n",
       "      <td>0.545025</td>\n",
       "    </tr>\n",
       "    <tr>\n",
       "      <th>4</th>\n",
       "      <td>US</td>\n",
       "      <td>english</td>\n",
       "      <td>title</td>\n",
       "      <td>1</td>\n",
       "      <td>9</td>\n",
       "      <td>0.494279</td>\n",
       "    </tr>\n",
       "  </tbody>\n",
       "</table>\n",
       "</div>"
      ],
      "text/plain": [
       "  region     lang   feat  epochs  kfolds  accuracy\n",
       "0     US  english  title       1       5  0.600995\n",
       "1     US  english  title       1       6  0.591542\n",
       "2     US  english  title       1       7  0.664677\n",
       "3     US  english  title       1       8  0.545025\n",
       "4     US  english  title       1       9  0.494279"
      ]
     },
     "execution_count": 10,
     "metadata": {},
     "output_type": "execute_result"
    }
   ],
   "source": [
    "regions = [ ('US', 'english'), ('FR', 'french'), ('DE', 'german') ]\n",
    "features = [ 'title', 'tags' ]\n",
    "\n",
    "history = []\n",
    "for region, language in regions:\n",
    "    _region_start = time.time()\n",
    "    for feature in features:\n",
    "        region_df, num_classes = load_region_data(region, language)\n",
    "        X, Y = create_xy(region_df, feature)\n",
    "        for epoch in [1, 2]:\n",
    "            for splits in [5, 6, 7, 8, 9, 10]:\n",
    "                _model_start = time.time()\n",
    "                model = create_model(X, num_classes)\n",
    "                model, loss_history, accuracy_history, log_dir = train_model(model, X, Y)\n",
    "                write_embedding_meta(model, log_dir)\n",
    "                history.append([region, language, feature, epoch, splits, accuracy_history[0][-1]])\n",
    "                print('model finished {} {} {} {} {} {:.2f}s'.format(\n",
    "                    region, language, feature, epoch, splits, time.time() - _model_start))\n",
    "        del X # help garbage collection\n",
    "        del Y # RAM go brrrr\n",
    "    print('finished region {} in {:2f} mins'.format(region, (time.time() - _region_start) / 60.))\n",
    "\n",
    "history = pd.DataFrame(data=history, columns=['region', 'lang', 'feat', 'epochs', 'kfolds', 'accuracy'])\n",
    "history.head()"
   ]
  },
  {
   "cell_type": "code",
   "execution_count": 19,
   "metadata": {},
   "outputs": [
    {
     "data": {
      "image/png": "[encoded data removed]",
      "text/plain": [
       "<Figure size 432x288 with 1 Axes>"
      ]
     },
     "metadata": {
      "needs_background": "light"
     },
     "output_type": "display_data"
    },
    {
     "data": {
      "image/png": "[encoded data removed]",
      "text/plain": [
       "<Figure size 432x288 with 1 Axes>"
      ]
     },
     "metadata": {
      "needs_background": "light"
     },
     "output_type": "display_data"
    },
    {
     "data": {
      "image/png": "[encoded data removed]",
      "text/plain": [
       "<Figure size 432x288 with 1 Axes>"
      ]
     },
     "metadata": {
      "needs_background": "light"
     },
     "output_type": "display_data"
    },
    {
     "data": {
      "image/png": "[encoded data removed]",
      "text/plain": [
       "<Figure size 432x288 with 1 Axes>"
      ]
     },
     "metadata": {
      "needs_background": "light"
     },
     "output_type": "display_data"
    },
    {
     "data": {
      "image/png": "[encoded data removed]",
      "text/plain": [
       "<Figure size 432x288 with 1 Axes>"
      ]
     },
     "metadata": {
      "needs_background": "light"
     },
     "output_type": "display_data"
    },
    {
     "data": {
      "image/png": "[encoded data removed]",
      "text/plain": [
       "<Figure size 432x288 with 1 Axes>"
      ]
     },
     "metadata": {
      "needs_background": "light"
     },
     "output_type": "display_data"
    }
   ],
   "source": [
    "for region, _ in regions:\n",
    "    for feat in features:\n",
    "        df = history[history['region'] == region]\n",
    "        df = df[df['feat'] == feat]\n",
    "        \n",
    "        Z = df.pivot_table(index='kfolds', columns='epochs', values='accuracy').T.values\n",
    "\n",
    "        X_unique = np.sort(df['kfolds'].unique())\n",
    "        Y_unique = np.sort(df['epochs'].unique())\n",
    "        X, Y = np.meshgrid(X_unique, Y_unique)\n",
    "    \n",
    "        fig = plt.figure()\n",
    "        ax = fig.add_subplot(111, projection='3d')\n",
    "        ax.scatter(df['kfolds'], df['epochs'], df['accuracy'])\n",
    "        ax.plot_surface(X, Y, Z, cmap=cm.coolwarm, linewidth=0, antialiased=False)\n",
    "        ax.set(xlabel='kfolds', ylabel='epochs', zlabel='accuracy', title='{} region - {} embedding'.format(region, feat))\n",
    "        plt.show()\n"
   ]
  },
  {
   "cell_type": "code",
   "execution_count": 16,
   "metadata": {},
   "outputs": [
    {
     "data": {
      "text/html": [
       "<div>\n",
       "<style scoped>\n",
       "    .dataframe tbody tr th:only-of-type {\n",
       "        vertical-align: middle;\n",
       "    }\n",
       "\n",
       "    .dataframe tbody tr th {\n",
       "        vertical-align: top;\n",
       "    }\n",
       "\n",
       "    .dataframe thead th {\n",
       "        text-align: right;\n",
       "    }\n",
       "</style>\n",
       "<table border=\"1\" class=\"dataframe\">\n",
       "  <thead>\n",
       "    <tr style=\"text-align: right;\">\n",
       "      <th></th>\n",
       "      <th>region</th>\n",
       "      <th>lang</th>\n",
       "      <th>feat</th>\n",
       "      <th>epochs</th>\n",
       "      <th>kfolds</th>\n",
       "      <th>accuracy</th>\n",
       "    </tr>\n",
       "  </thead>\n",
       "  <tbody>\n",
       "    <tr>\n",
       "      <th>0</th>\n",
       "      <td>US</td>\n",
       "      <td>english</td>\n",
       "      <td>title</td>\n",
       "      <td>1</td>\n",
       "      <td>5</td>\n",
       "      <td>0.600995</td>\n",
       "    </tr>\n",
       "    <tr>\n",
       "      <th>1</th>\n",
       "      <td>US</td>\n",
       "      <td>english</td>\n",
       "      <td>title</td>\n",
       "      <td>1</td>\n",
       "      <td>6</td>\n",
       "      <td>0.591542</td>\n",
       "    </tr>\n",
       "    <tr>\n",
       "      <th>2</th>\n",
       "      <td>US</td>\n",
       "      <td>english</td>\n",
       "      <td>title</td>\n",
       "      <td>1</td>\n",
       "      <td>7</td>\n",
       "      <td>0.664677</td>\n",
       "    </tr>\n",
       "    <tr>\n",
       "      <th>3</th>\n",
       "      <td>US</td>\n",
       "      <td>english</td>\n",
       "      <td>title</td>\n",
       "      <td>1</td>\n",
       "      <td>8</td>\n",
       "      <td>0.545025</td>\n",
       "    </tr>\n",
       "    <tr>\n",
       "      <th>4</th>\n",
       "      <td>US</td>\n",
       "      <td>english</td>\n",
       "      <td>title</td>\n",
       "      <td>1</td>\n",
       "      <td>9</td>\n",
       "      <td>0.494279</td>\n",
       "    </tr>\n",
       "    <tr>\n",
       "      <th>5</th>\n",
       "      <td>US</td>\n",
       "      <td>english</td>\n",
       "      <td>title</td>\n",
       "      <td>1</td>\n",
       "      <td>10</td>\n",
       "      <td>0.400249</td>\n",
       "    </tr>\n",
       "    <tr>\n",
       "      <th>6</th>\n",
       "      <td>US</td>\n",
       "      <td>english</td>\n",
       "      <td>title</td>\n",
       "      <td>2</td>\n",
       "      <td>5</td>\n",
       "      <td>0.499502</td>\n",
       "    </tr>\n",
       "    <tr>\n",
       "      <th>7</th>\n",
       "      <td>US</td>\n",
       "      <td>english</td>\n",
       "      <td>title</td>\n",
       "      <td>2</td>\n",
       "      <td>6</td>\n",
       "      <td>0.622139</td>\n",
       "    </tr>\n",
       "    <tr>\n",
       "      <th>8</th>\n",
       "      <td>US</td>\n",
       "      <td>english</td>\n",
       "      <td>title</td>\n",
       "      <td>2</td>\n",
       "      <td>7</td>\n",
       "      <td>0.518905</td>\n",
       "    </tr>\n",
       "    <tr>\n",
       "      <th>9</th>\n",
       "      <td>US</td>\n",
       "      <td>english</td>\n",
       "      <td>title</td>\n",
       "      <td>2</td>\n",
       "      <td>8</td>\n",
       "      <td>0.591791</td>\n",
       "    </tr>\n",
       "    <tr>\n",
       "      <th>10</th>\n",
       "      <td>US</td>\n",
       "      <td>english</td>\n",
       "      <td>title</td>\n",
       "      <td>2</td>\n",
       "      <td>9</td>\n",
       "      <td>0.488806</td>\n",
       "    </tr>\n",
       "    <tr>\n",
       "      <th>11</th>\n",
       "      <td>US</td>\n",
       "      <td>english</td>\n",
       "      <td>title</td>\n",
       "      <td>2</td>\n",
       "      <td>10</td>\n",
       "      <td>0.588308</td>\n",
       "    </tr>\n",
       "    <tr>\n",
       "      <th>12</th>\n",
       "      <td>US</td>\n",
       "      <td>english</td>\n",
       "      <td>tags</td>\n",
       "      <td>1</td>\n",
       "      <td>5</td>\n",
       "      <td>0.550995</td>\n",
       "    </tr>\n",
       "    <tr>\n",
       "      <th>13</th>\n",
       "      <td>US</td>\n",
       "      <td>english</td>\n",
       "      <td>tags</td>\n",
       "      <td>1</td>\n",
       "      <td>6</td>\n",
       "      <td>0.662687</td>\n",
       "    </tr>\n",
       "    <tr>\n",
       "      <th>14</th>\n",
       "      <td>US</td>\n",
       "      <td>english</td>\n",
       "      <td>tags</td>\n",
       "      <td>1</td>\n",
       "      <td>7</td>\n",
       "      <td>0.767413</td>\n",
       "    </tr>\n",
       "    <tr>\n",
       "      <th>15</th>\n",
       "      <td>US</td>\n",
       "      <td>english</td>\n",
       "      <td>tags</td>\n",
       "      <td>1</td>\n",
       "      <td>8</td>\n",
       "      <td>0.713184</td>\n",
       "    </tr>\n",
       "    <tr>\n",
       "      <th>16</th>\n",
       "      <td>US</td>\n",
       "      <td>english</td>\n",
       "      <td>tags</td>\n",
       "      <td>1</td>\n",
       "      <td>9</td>\n",
       "      <td>0.686567</td>\n",
       "    </tr>\n",
       "    <tr>\n",
       "      <th>17</th>\n",
       "      <td>US</td>\n",
       "      <td>english</td>\n",
       "      <td>tags</td>\n",
       "      <td>1</td>\n",
       "      <td>10</td>\n",
       "      <td>0.665920</td>\n",
       "    </tr>\n",
       "    <tr>\n",
       "      <th>18</th>\n",
       "      <td>US</td>\n",
       "      <td>english</td>\n",
       "      <td>tags</td>\n",
       "      <td>2</td>\n",
       "      <td>5</td>\n",
       "      <td>0.727114</td>\n",
       "    </tr>\n",
       "    <tr>\n",
       "      <th>19</th>\n",
       "      <td>US</td>\n",
       "      <td>english</td>\n",
       "      <td>tags</td>\n",
       "      <td>2</td>\n",
       "      <td>6</td>\n",
       "      <td>0.737065</td>\n",
       "    </tr>\n",
       "    <tr>\n",
       "      <th>20</th>\n",
       "      <td>US</td>\n",
       "      <td>english</td>\n",
       "      <td>tags</td>\n",
       "      <td>2</td>\n",
       "      <td>7</td>\n",
       "      <td>0.651990</td>\n",
       "    </tr>\n",
       "    <tr>\n",
       "      <th>21</th>\n",
       "      <td>US</td>\n",
       "      <td>english</td>\n",
       "      <td>tags</td>\n",
       "      <td>2</td>\n",
       "      <td>8</td>\n",
       "      <td>0.596020</td>\n",
       "    </tr>\n",
       "    <tr>\n",
       "      <th>22</th>\n",
       "      <td>US</td>\n",
       "      <td>english</td>\n",
       "      <td>tags</td>\n",
       "      <td>2</td>\n",
       "      <td>9</td>\n",
       "      <td>0.774876</td>\n",
       "    </tr>\n",
       "    <tr>\n",
       "      <th>23</th>\n",
       "      <td>US</td>\n",
       "      <td>english</td>\n",
       "      <td>tags</td>\n",
       "      <td>2</td>\n",
       "      <td>10</td>\n",
       "      <td>0.544279</td>\n",
       "    </tr>\n",
       "    <tr>\n",
       "      <th>24</th>\n",
       "      <td>FR</td>\n",
       "      <td>french</td>\n",
       "      <td>title</td>\n",
       "      <td>1</td>\n",
       "      <td>5</td>\n",
       "      <td>0.335215</td>\n",
       "    </tr>\n",
       "    <tr>\n",
       "      <th>25</th>\n",
       "      <td>FR</td>\n",
       "      <td>french</td>\n",
       "      <td>title</td>\n",
       "      <td>1</td>\n",
       "      <td>6</td>\n",
       "      <td>0.290591</td>\n",
       "    </tr>\n",
       "    <tr>\n",
       "      <th>26</th>\n",
       "      <td>FR</td>\n",
       "      <td>french</td>\n",
       "      <td>title</td>\n",
       "      <td>1</td>\n",
       "      <td>7</td>\n",
       "      <td>0.329839</td>\n",
       "    </tr>\n",
       "    <tr>\n",
       "      <th>27</th>\n",
       "      <td>FR</td>\n",
       "      <td>french</td>\n",
       "      <td>title</td>\n",
       "      <td>1</td>\n",
       "      <td>8</td>\n",
       "      <td>0.366129</td>\n",
       "    </tr>\n",
       "    <tr>\n",
       "      <th>28</th>\n",
       "      <td>FR</td>\n",
       "      <td>french</td>\n",
       "      <td>title</td>\n",
       "      <td>1</td>\n",
       "      <td>9</td>\n",
       "      <td>0.344355</td>\n",
       "    </tr>\n",
       "    <tr>\n",
       "      <th>29</th>\n",
       "      <td>FR</td>\n",
       "      <td>french</td>\n",
       "      <td>title</td>\n",
       "      <td>1</td>\n",
       "      <td>10</td>\n",
       "      <td>0.395699</td>\n",
       "    </tr>\n",
       "    <tr>\n",
       "      <th>30</th>\n",
       "      <td>FR</td>\n",
       "      <td>french</td>\n",
       "      <td>title</td>\n",
       "      <td>2</td>\n",
       "      <td>5</td>\n",
       "      <td>0.352151</td>\n",
       "    </tr>\n",
       "    <tr>\n",
       "      <th>31</th>\n",
       "      <td>FR</td>\n",
       "      <td>french</td>\n",
       "      <td>title</td>\n",
       "      <td>2</td>\n",
       "      <td>6</td>\n",
       "      <td>0.377688</td>\n",
       "    </tr>\n",
       "    <tr>\n",
       "      <th>32</th>\n",
       "      <td>FR</td>\n",
       "      <td>french</td>\n",
       "      <td>title</td>\n",
       "      <td>2</td>\n",
       "      <td>7</td>\n",
       "      <td>0.340323</td>\n",
       "    </tr>\n",
       "    <tr>\n",
       "      <th>33</th>\n",
       "      <td>FR</td>\n",
       "      <td>french</td>\n",
       "      <td>title</td>\n",
       "      <td>2</td>\n",
       "      <td>8</td>\n",
       "      <td>0.313710</td>\n",
       "    </tr>\n",
       "    <tr>\n",
       "      <th>34</th>\n",
       "      <td>FR</td>\n",
       "      <td>french</td>\n",
       "      <td>title</td>\n",
       "      <td>2</td>\n",
       "      <td>9</td>\n",
       "      <td>0.336828</td>\n",
       "    </tr>\n",
       "    <tr>\n",
       "      <th>35</th>\n",
       "      <td>FR</td>\n",
       "      <td>french</td>\n",
       "      <td>title</td>\n",
       "      <td>2</td>\n",
       "      <td>10</td>\n",
       "      <td>0.340591</td>\n",
       "    </tr>\n",
       "    <tr>\n",
       "      <th>36</th>\n",
       "      <td>FR</td>\n",
       "      <td>french</td>\n",
       "      <td>tags</td>\n",
       "      <td>1</td>\n",
       "      <td>5</td>\n",
       "      <td>0.399194</td>\n",
       "    </tr>\n",
       "    <tr>\n",
       "      <th>37</th>\n",
       "      <td>FR</td>\n",
       "      <td>french</td>\n",
       "      <td>tags</td>\n",
       "      <td>1</td>\n",
       "      <td>6</td>\n",
       "      <td>0.387903</td>\n",
       "    </tr>\n",
       "    <tr>\n",
       "      <th>38</th>\n",
       "      <td>FR</td>\n",
       "      <td>french</td>\n",
       "      <td>tags</td>\n",
       "      <td>1</td>\n",
       "      <td>7</td>\n",
       "      <td>0.439516</td>\n",
       "    </tr>\n",
       "    <tr>\n",
       "      <th>39</th>\n",
       "      <td>FR</td>\n",
       "      <td>french</td>\n",
       "      <td>tags</td>\n",
       "      <td>1</td>\n",
       "      <td>8</td>\n",
       "      <td>0.326344</td>\n",
       "    </tr>\n",
       "    <tr>\n",
       "      <th>40</th>\n",
       "      <td>FR</td>\n",
       "      <td>french</td>\n",
       "      <td>tags</td>\n",
       "      <td>1</td>\n",
       "      <td>9</td>\n",
       "      <td>0.520699</td>\n",
       "    </tr>\n",
       "    <tr>\n",
       "      <th>41</th>\n",
       "      <td>FR</td>\n",
       "      <td>french</td>\n",
       "      <td>tags</td>\n",
       "      <td>1</td>\n",
       "      <td>10</td>\n",
       "      <td>0.367204</td>\n",
       "    </tr>\n",
       "    <tr>\n",
       "      <th>42</th>\n",
       "      <td>FR</td>\n",
       "      <td>french</td>\n",
       "      <td>tags</td>\n",
       "      <td>2</td>\n",
       "      <td>5</td>\n",
       "      <td>0.456183</td>\n",
       "    </tr>\n",
       "    <tr>\n",
       "      <th>43</th>\n",
       "      <td>FR</td>\n",
       "      <td>french</td>\n",
       "      <td>tags</td>\n",
       "      <td>2</td>\n",
       "      <td>6</td>\n",
       "      <td>0.441398</td>\n",
       "    </tr>\n",
       "    <tr>\n",
       "      <th>44</th>\n",
       "      <td>FR</td>\n",
       "      <td>french</td>\n",
       "      <td>tags</td>\n",
       "      <td>2</td>\n",
       "      <td>7</td>\n",
       "      <td>0.401075</td>\n",
       "    </tr>\n",
       "    <tr>\n",
       "      <th>45</th>\n",
       "      <td>FR</td>\n",
       "      <td>french</td>\n",
       "      <td>tags</td>\n",
       "      <td>2</td>\n",
       "      <td>8</td>\n",
       "      <td>0.489247</td>\n",
       "    </tr>\n",
       "    <tr>\n",
       "      <th>46</th>\n",
       "      <td>FR</td>\n",
       "      <td>french</td>\n",
       "      <td>tags</td>\n",
       "      <td>2</td>\n",
       "      <td>9</td>\n",
       "      <td>0.429301</td>\n",
       "    </tr>\n",
       "    <tr>\n",
       "      <th>47</th>\n",
       "      <td>FR</td>\n",
       "      <td>french</td>\n",
       "      <td>tags</td>\n",
       "      <td>2</td>\n",
       "      <td>10</td>\n",
       "      <td>0.427957</td>\n",
       "    </tr>\n",
       "    <tr>\n",
       "      <th>48</th>\n",
       "      <td>DE</td>\n",
       "      <td>german</td>\n",
       "      <td>title</td>\n",
       "      <td>1</td>\n",
       "      <td>5</td>\n",
       "      <td>0.469267</td>\n",
       "    </tr>\n",
       "    <tr>\n",
       "      <th>49</th>\n",
       "      <td>DE</td>\n",
       "      <td>german</td>\n",
       "      <td>title</td>\n",
       "      <td>1</td>\n",
       "      <td>6</td>\n",
       "      <td>0.486829</td>\n",
       "    </tr>\n",
       "  </tbody>\n",
       "</table>\n",
       "</div>"
      ],
      "text/plain": [
       "   region     lang   feat  epochs  kfolds  accuracy\n",
       "0      US  english  title       1       5  0.600995\n",
       "1      US  english  title       1       6  0.591542\n",
       "2      US  english  title       1       7  0.664677\n",
       "3      US  english  title       1       8  0.545025\n",
       "4      US  english  title       1       9  0.494279\n",
       "5      US  english  title       1      10  0.400249\n",
       "6      US  english  title       2       5  0.499502\n",
       "7      US  english  title       2       6  0.622139\n",
       "8      US  english  title       2       7  0.518905\n",
       "9      US  english  title       2       8  0.591791\n",
       "10     US  english  title       2       9  0.488806\n",
       "11     US  english  title       2      10  0.588308\n",
       "12     US  english   tags       1       5  0.550995\n",
       "13     US  english   tags       1       6  0.662687\n",
       "14     US  english   tags       1       7  0.767413\n",
       "15     US  english   tags       1       8  0.713184\n",
       "16     US  english   tags       1       9  0.686567\n",
       "17     US  english   tags       1      10  0.665920\n",
       "18     US  english   tags       2       5  0.727114\n",
       "19     US  english   tags       2       6  0.737065\n",
       "20     US  english   tags       2       7  0.651990\n",
       "21     US  english   tags       2       8  0.596020\n",
       "22     US  english   tags       2       9  0.774876\n",
       "23     US  english   tags       2      10  0.544279\n",
       "24     FR   french  title       1       5  0.335215\n",
       "25     FR   french  title       1       6  0.290591\n",
       "26     FR   french  title       1       7  0.329839\n",
       "27     FR   french  title       1       8  0.366129\n",
       "28     FR   french  title       1       9  0.344355\n",
       "29     FR   french  title       1      10  0.395699\n",
       "30     FR   french  title       2       5  0.352151\n",
       "31     FR   french  title       2       6  0.377688\n",
       "32     FR   french  title       2       7  0.340323\n",
       "33     FR   french  title       2       8  0.313710\n",
       "34     FR   french  title       2       9  0.336828\n",
       "35     FR   french  title       2      10  0.340591\n",
       "36     FR   french   tags       1       5  0.399194\n",
       "37     FR   french   tags       1       6  0.387903\n",
       "38     FR   french   tags       1       7  0.439516\n",
       "39     FR   french   tags       1       8  0.326344\n",
       "40     FR   french   tags       1       9  0.520699\n",
       "41     FR   french   tags       1      10  0.367204\n",
       "42     FR   french   tags       2       5  0.456183\n",
       "43     FR   french   tags       2       6  0.441398\n",
       "44     FR   french   tags       2       7  0.401075\n",
       "45     FR   french   tags       2       8  0.489247\n",
       "46     FR   french   tags       2       9  0.429301\n",
       "47     FR   french   tags       2      10  0.427957\n",
       "48     DE   german  title       1       5  0.469267\n",
       "49     DE   german  title       1       6  0.486829"
      ]
     },
     "execution_count": 16,
     "metadata": {},
     "output_type": "execute_result"
    }
   ],
   "source": [
    "history.head(50)"
   ]
  },
  {
   "cell_type": "code",
   "execution_count": null,
   "metadata": {},
   "outputs": [],
   "source": []
  }
 ],
 "metadata": {
  "kernelspec": {
   "display_name": "Python 3",
   "language": "python",
   "name": "python3"
  },
  "language_info": {
   "codemirror_mode": {
    "name": "ipython",
    "version": 3
   },
   "file_extension": ".py",
   "mimetype": "text/x-python",
   "name": "python",
   "nbconvert_exporter": "python",
   "pygments_lexer": "ipython3",
   "version": "3.8.6"
  }
 },
 "nbformat": 4,
 "nbformat_minor": 4
}
